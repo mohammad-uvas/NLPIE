{
 "cells": [
  {
   "cell_type": "code",
   "execution_count": 1,
   "id": "b11cddfa",
   "metadata": {},
   "outputs": [],
   "source": [
    "# Mohd Uvas 18BCS079\n",
    "# B.Tech(Computer Engineering 2018-2022 )\n",
    "# Semester 8\n",
    "# Lab Assignment 3\n",
    "\n",
    "#Problem:-\n",
    "#Implement the Shannon's Visualization Method"
   ]
  },
  {
   "cell_type": "code",
   "execution_count": 1,
   "id": "ae9fbd80",
   "metadata": {},
   "outputs": [],
   "source": [
    "#taking file as input and returning vocabulary \n",
    "def get_vocab(tokens):\n",
    "    token_count=dict()\n",
    "    for x in tokens:\n",
    "        if x in token_count:\n",
    "            token_count[x]+=1\n",
    "        else:\n",
    "            token_count[x]=1 \n",
    "    return token_count"
   ]
  },
  {
   "cell_type": "code",
   "execution_count": 2,
   "id": "778c918c",
   "metadata": {
    "scrolled": true
   },
   "outputs": [
    {
     "name": "stdout",
     "output_type": "stream",
     "text": [
      "<zip object at 0x00000175AEBBE388>\n"
     ]
    }
   ],
   "source": [
    "#getting bigrams trigrams quadgrams count in corpus using nltk\n",
    "import nltk\n",
    "from nltk.tokenize import word_tokenize\n",
    "from nltk import FreqDist\n",
    "from nltk.util import bigrams,trigrams,ngrams\n",
    "\n",
    "file = open('shanon_text.txt')\n",
    "text = file.read()\n",
    "tokens=word_tokenize(text)\n",
    "\n",
    "bigrams = nltk.bigrams(tokens)\n",
    "trigrams = nltk.ngrams(tokens,3)\n",
    "quadgrams = nltk.ngrams(tokens,4)"
   ]
  },
  {
   "cell_type": "code",
   "execution_count": 4,
   "id": "3782cfe3",
   "metadata": {
    "scrolled": true
   },
   "outputs": [],
   "source": [
    "#making vocablary of bigram quadgram which contains key as probalitiy \n",
    "\n",
    "unigram_vocab  = get_vocab(tokens)\n",
    "bigram_vocab   = dict()\n",
    "quadgram_vocab = dict()\n",
    "\n",
    "bigram_freq = nltk.FreqDist(bigrams)\n",
    "for key,value in bigram_freq.items():\n",
    "    bigram_vocab[key]=value/(unigram_vocab[key[0]])\n",
    "\n",
    "trigram_freq = nltk.FreqDist(trigrams)\n",
    "\n",
    "quadgram_freq = nltk.FreqDist(quadgrams)\n",
    "for key,value in quadgram_freq.items():\n",
    "    quadgram_vocab[key]=value/(trigram_freq[key[:-1]])\n"
   ]
  },
  {
   "cell_type": "markdown",
   "id": "591fa5b3",
   "metadata": {},
   "source": [
    "# 1. highest probability sentences generations using bigram probabilities"
   ]
  },
  {
   "cell_type": "code",
   "execution_count": 5,
   "id": "53bf5847",
   "metadata": {
    "scrolled": true
   },
   "outputs": [
    {
     "name": "stdout",
     "output_type": "stream",
     "text": [
      "(('addresses', 'the'), 1.0)\n",
      "('the', 'aforementioned')\n",
      "('aforementioned', 'applications')\n",
      "('applications', 'Thus')\n",
      "('Thus', ',')\n",
      "(',', 'in')\n",
      "('in', 'mathematical')\n",
      "('mathematical', 'programming')\n"
     ]
    }
   ],
   "source": [
    "from collections import Counter\n",
    "import random\n",
    "\n",
    "k = Counter(bigram_vocab)\n",
    "high = k.most_common(4)\n",
    "random_element=random.choice(high)\n",
    "\n",
    "print(random_element)\n",
    "while True:\n",
    "    temp_dict=dict()\n",
    "    for wrd in unigram_vocab:\n",
    "        lis=(random_element[0][1],wrd)\n",
    "        if lis in bigram_vocab:\n",
    "            temp_dict[lis]=bigram_vocab[lis]\n",
    "            \n",
    "    if len(temp_dict)==0:\n",
    "        break\n",
    "    \n",
    "    k_1 = Counter(temp_dict)\n",
    "    high_1 = k_1.most_common()\n",
    "    random_element=random.choice(high_1)\n",
    "    print(random_element[0])      "
   ]
  },
  {
   "cell_type": "markdown",
   "id": "90294524",
   "metadata": {},
   "source": [
    "# 2. highest probability sentences generations in quadgram probabilities"
   ]
  },
  {
   "cell_type": "code",
   "execution_count": 6,
   "id": "aa61fb0b",
   "metadata": {},
   "outputs": [
    {
     "name": "stdout",
     "output_type": "stream",
     "text": [
      "('statistical', 'behavior', 'of', 'these')\n",
      "('behavior', 'of', 'these', 'algorithms')\n",
      "('of', 'these', 'algorithms', 'can')\n",
      "('these', 'algorithms', 'can', 'be')\n",
      "('algorithms', 'can', 'be', 'gleaned')\n",
      "('can', 'be', 'gleaned', 'from')\n",
      "('be', 'gleaned', 'from', 'standard')\n",
      "('gleaned', 'from', 'standard', 'analyses')\n",
      "('from', 'standard', 'analyses', 'in')\n",
      "('standard', 'analyses', 'in', 'mathematical')\n",
      "('analyses', 'in', 'mathematical', 'programming')\n"
     ]
    }
   ],
   "source": [
    "from collections import Counter\n",
    "import random\n",
    "\n",
    "k = Counter(quadgram_vocab)\n",
    "high = k.most_common(4)\n",
    "random_element=random.choice(high)\n",
    "\n",
    "random_element=(('statistical','behavior','of','these'),1)\n",
    "print(random_element[0])\n",
    "while True:\n",
    "    temp_dict=dict()\n",
    "    for wrd in unigram_vocab:\n",
    "        lis=(random_element[0][1],random_element[0][2],random_element[0][3],wrd)\n",
    "        if lis in quadgram_vocab:\n",
    "            temp_dict[lis]=quadgram_vocab[lis]\n",
    "            \n",
    "    if len(temp_dict)==0:\n",
    "        break\n",
    "    \n",
    "    k_1 = Counter(temp_dict)\n",
    "    high_1 = k_1.most_common(4)\n",
    "    random_element=random.choice(high_1)\n",
    "    print(random_element[0])\n",
    "    \n",
    "        "
   ]
  }
 ],
 "metadata": {
  "kernelspec": {
   "display_name": "Python 3 (ipykernel)",
   "language": "python",
   "name": "python3"
  },
  "language_info": {
   "codemirror_mode": {
    "name": "ipython",
    "version": 3
   },
   "file_extension": ".py",
   "mimetype": "text/x-python",
   "name": "python",
   "nbconvert_exporter": "python",
   "pygments_lexer": "ipython3",
   "version": "3.7.11"
  }
 },
 "nbformat": 4,
 "nbformat_minor": 5
}

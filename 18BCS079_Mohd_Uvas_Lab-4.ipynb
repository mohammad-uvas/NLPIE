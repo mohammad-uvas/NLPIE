{
 "cells": [
  {
   "cell_type": "code",
   "execution_count": 1,
   "id": "c7634930",
   "metadata": {},
   "outputs": [],
   "source": [
    "# Mohd Uvas 18BCS079\n",
    "# B.Tech(Computer Engineering 2018-2022 )\n",
    "# Semester 8\n",
    "# Lab Assignment 4\n",
    "\n",
    "#Problem:-\n",
    "#1) Calculate and print N, the size of corpora (i.e. total number of words); V the size of vocabulary (i.e. number of unique words).\n",
    "\n",
    "#2) Calculate and print\n",
    "#a) all the unigram probabilities from the training data (Use Model 1).\n",
    "#b) all the Add-1 unigram probabilities from the training data (Use Model 2).\n",
    "#c) all the Good Turing unigram probabilities from the training data (Use Model 3).\n",
    "\n",
    "#3) Calculate and print\n",
    "#a) all the unigram counts from the training data (Use Model 1).\n",
    "#b) all the Add-1 unigram smoothed counts from the training data (Use Model 2).\n",
    "#c) all the Good Turing unigram smoothed counts from the training data (Use Model 3).\n",
    "\n",
    "#4) Calculate the probability of the test sentence\n",
    "#a) using unsmoothed Model 1\n",
    "#b) using Add-1 smoothed Model 2\n",
    "#c) using Good Turing smoothed Model 3\n",
    "#Clearly show the probability of each individual unigram of test sentence in each case.\n",
    "\n"
   ]
  },
  {
   "cell_type": "code",
   "execution_count": 1,
   "id": "6e580589",
   "metadata": {},
   "outputs": [],
   "source": [
    "#function return vocab of corpus\n",
    "def get_vocab(tokens):\n",
    "    token_count=dict()\n",
    "    for x in tokens:\n",
    "        if x in token_count:\n",
    "            token_count[x]+=1\n",
    "        else:\n",
    "            token_count[x]=1 \n",
    "    return token_count"
   ]
  },
  {
   "cell_type": "code",
   "execution_count": 2,
   "id": "1cad3440",
   "metadata": {},
   "outputs": [],
   "source": [
    "#opening training corpus and calculating unnigram count and probability\n",
    "from nltk.tokenize import word_tokenize\n",
    "\n",
    "file = open('smoothing_text.txt')\n",
    "text = file.read()\n",
    "tokens=word_tokenize(text)\n",
    "\n",
    "unigram_vocab = get_vocab(tokens)\n",
    "unigram_prob  = dict()\n",
    "\n",
    "for key in unigram_vocab:\n",
    "    unigram_prob[key]=unigram_vocab[key]/sum(unigram_vocab.values())"
   ]
  },
  {
   "cell_type": "code",
   "execution_count": 4,
   "id": "6d44d33b",
   "metadata": {},
   "outputs": [],
   "source": [
    "#calculating smoothed add-1 unigram probability\n",
    "add_1_prob=dict()\n",
    "for key in unigram_prob:\n",
    "    add_1_prob[key] = (unigram_vocab[key]+1) / (sum(unigram_vocab.values())+len(unigram_vocab))"
   ]
  },
  {
   "cell_type": "code",
   "execution_count": 5,
   "id": "2b593e36",
   "metadata": {},
   "outputs": [],
   "source": [
    "#calculating smoothed add-1 unigram counts\n",
    "add_1_vocab=dict()\n",
    "for key in unigram_prob:\n",
    "    add_1_vocab[key] = add_1_prob[key]*sum(unigram_vocab.values())"
   ]
  },
  {
   "cell_type": "code",
   "execution_count": 6,
   "id": "1d843124",
   "metadata": {},
   "outputs": [
    {
     "name": "stdout",
     "output_type": "stream",
     "text": [
      "{12: 1, 1: 93, 3: 12, 10: 1, 2: 37, 7: 4, 11: 1, 4: 9, 18: 1, 8: 1, 5: 3}\n"
     ]
    }
   ],
   "source": [
    "#creating dictionary containing frequency as key and frequency frequency as value\n",
    "n_c=dict()\n",
    "for word,key in unigram_vocab.items():\n",
    "    current_frequency = n_c.get(key,0)\n",
    "    n_c[key]=current_frequency+1\n",
    "print(n_c)"
   ]
  },
  {
   "cell_type": "code",
   "execution_count": 7,
   "id": "ddfbf8a5",
   "metadata": {},
   "outputs": [
    {
     "name": "stdout",
     "output_type": "stream",
     "text": [
      "0.2727272727272727\n"
     ]
    }
   ],
   "source": [
    "#calaculating probability of unobserved things\n",
    "zero_count_prob = n_c[1]/sum(unigram_vocab.values())\n",
    "print(zero_count_prob)"
   ]
  },
  {
   "cell_type": "code",
   "execution_count": 8,
   "id": "1926b97e",
   "metadata": {},
   "outputs": [
    {
     "name": "stdout",
     "output_type": "stream",
     "text": [
      "{12: 0, 1: 0.7956989247311828, 3: 3.0, 10: 11.0, 2: 0.972972972972973, 7: 2.0, 11: 12.0, 4: 1.6666666666666665, 18: 0, 8: 0, 5: 0}\n"
     ]
    }
   ],
   "source": [
    "#calculating N_c counts from n_c table\n",
    "n_c_count=dict()\n",
    "for word,key in n_c.items():\n",
    "    if word+1 not in n_c:\n",
    "        n_c_count[word]=0\n",
    "        continue\n",
    "    n_c_count[word]=(word+1)*(n_c[word+1]/n_c[word])\n",
    "print(n_c_count)"
   ]
  },
  {
   "cell_type": "code",
   "execution_count": 9,
   "id": "de0d5c5c",
   "metadata": {},
   "outputs": [],
   "source": [
    "#calculating good_tuning counts \n",
    "g_t_vocab=dict()\n",
    "for word,key in unigram_vocab.items():\n",
    "    g_t_vocab[word]=n_c_count[key]/n_c[key]\n",
    "    \n",
    "#calculating good_tuning probability\n",
    "g_t_prob=dict()\n",
    "for word,key in unigram_vocab.items():\n",
    "    g_t_prob[word]=g_t_vocab[word]/sum(unigram_vocab.values())"
   ]
  },
  {
   "cell_type": "markdown",
   "id": "95e55403",
   "metadata": {},
   "source": [
    "# 1) Calculate and print N, the size of corpora (i.e. total number of words);            V the size of vocabulary (i.e. number of unique words).\n"
   ]
  },
  {
   "cell_type": "code",
   "execution_count": 10,
   "id": "bf784df9",
   "metadata": {},
   "outputs": [
    {
     "name": "stdout",
     "output_type": "stream",
     "text": [
      "the size of corpora =  341\n",
      "the size of vocabulary =  163\n"
     ]
    }
   ],
   "source": [
    "print(\"the size of corpora = \",sum(unigram_vocab.values()))\n",
    "print(\"the size of vocabulary = \",len(unigram_vocab))"
   ]
  },
  {
   "cell_type": "markdown",
   "id": "ca7234ce",
   "metadata": {},
   "source": [
    "# 2) Calculate and print                                                                                                    a) all the unigram probabilities from the training data (Use Model 1).                    b) all the Add-1 unigram probabilities from the training data (Use Model 2).          c) all the Good Turing unigram probabilities from the training data (Use Model 3).\n"
   ]
  },
  {
   "cell_type": "code",
   "execution_count": 11,
   "id": "2b9acadc",
   "metadata": {
    "scrolled": true
   },
   "outputs": [
    {
     "name": "stdout",
     "output_type": "stream",
     "text": [
      "unigram probability {'#': 0.03519061583577713, 'abstract': 0.002932551319648094, 'This': 0.002932551319648094, 'paper': 0.008797653958944282, 'addresses': 0.002932551319648094, 'the': 0.02932551319648094, 'problem': 0.005865102639296188, 'of': 0.020527859237536656, 'distributed': 0.03225806451612903, 'learning': 0.020527859237536656, 'under': 0.008797653958944282, 'communication': 0.011730205278592375, 'constraints': 0.011730205278592375, ',': 0.05278592375366569, 'motivated': 0.005865102639296188, 'by': 0.011730205278592375, 'signal': 0.008797653958944282, 'processing': 0.008797653958944282, 'in': 0.02346041055718475, 'wireless': 0.005865102639296188, 'sensor': 0.005865102639296188, 'networks': 0.005865102639296188, 'and': 0.020527859237536656, 'data': 0.011730205278592375, 'mining': 0.008797653958944282, 'with': 0.01466275659824047, 'databases': 0.011730205278592375, 'After': 0.002932551319648094, 'formalizing': 0.005865102639296188, 'a': 0.020527859237536656, 'general': 0.005865102639296188, 'model': 0.005865102639296188, 'for': 0.01466275659824047, 'an': 0.008797653958944282, 'algorithm': 0.011730205278592375, 'collaboratively': 0.002932551319648094, 'training': 0.005865102639296188, 'regularized': 0.005865102639296188, 'kernel': 0.005865102639296188, 'least-squares': 0.005865102639296188, 'regression': 0.005865102639296188, 'estimators': 0.002932551319648094, 'is': 0.005865102639296188, 'derived': 0.002932551319648094, 'Noting': 0.002932551319648094, 'that': 0.002932551319648094, 'can': 0.011730205278592375, 'be': 0.011730205278592375, 'viewed': 0.005865102639296188, 'as': 0.005865102639296188, 'application': 0.002932551319648094, 'successive': 0.005865102639296188, 'orthogonal': 0.005865102639296188, 'projection': 0.005865102639296188, 'algorithms': 0.008797653958944282, 'its': 0.002932551319648094, 'convergence': 0.002932551319648094, 'properties': 0.002932551319648094, 'are': 0.011730205278592375, 'investigated': 0.002932551319648094, 'statistical': 0.005865102639296188, 'behavior': 0.005865102639296188, 'estimator': 0.002932551319648094, 'discussed': 0.002932551319648094, 'simplified': 0.002932551319648094, 'theoretical': 0.002932551319648094, 'setting': 0.002932551319648094, 'introduction': 0.002932551319648094, 'In': 0.008797653958944282, 'this': 0.008797653958944282, 'we': 0.005865102639296188, 'address': 0.005865102639296188, 'primarily': 0.002932551319648094, '(': 0.008797653958944282, 'WSNs': 0.005865102639296188, ')': 0.008797653958944282, 'fortiori': 0.002932551319648094, 'designed': 0.002932551319648094, 'to': 0.01466275659824047, 'make': 0.005865102639296188, 'inferences': 0.005865102639296188, 'from': 0.008797653958944282, 'environments': 0.002932551319648094, 'they': 0.005865102639296188, 'sensing': 0.002932551319648094, ';': 0.005865102639296188, 'however': 0.005865102639296188, 'typically': 0.002932551319648094, 'characterized': 0.002932551319648094, 'on': 0.002932551319648094, 'energy': 0.002932551319648094, 'bandwidth': 0.002932551319648094, 'which': 0.002932551319648094, 'limit': 0.002932551319648094, 'sensors': 0.002932551319648094, \"'\": 0.002932551319648094, 'ability': 0.002932551319648094, 'share': 0.002932551319648094, 'each': 0.002932551319648094, 'other': 0.002932551319648094, 'or': 0.005865102639296188, 'centralized': 0.005865102639296188, 'fusion': 0.002932551319648094, 'center': 0.002932551319648094, 'multiple': 0.002932551319648094, 'agents': 0.002932551319648094, 'e': 0.005865102639296188, 'g': 0.002932551319648094, 'corporations': 0.002932551319648094, 'have': 0.005865102639296188, 'access': 0.002932551319648094, 'possibly': 0.002932551319648094, 'overlapping': 0.002932551319648094, 'wish': 0.002932551319648094, 'collaborate': 0.002932551319648094, 'optimal': 0.002932551319648094, 'privacy': 0.002932551319648094, 'security': 0.002932551319648094, 'concerns': 0.002932551319648094, 'may': 0.002932551319648094, 'preclude': 0.002932551319648094, 'them': 0.002932551319648094, 'fully': 0.002932551319648094, 'sharing': 0.002932551319648094, 'information': 0.002932551319648094, 'Nonparametric': 0.002932551319648094, 'methods': 0.005865102639296188, 'studied': 0.002932551319648094, 'within': 0.002932551319648094, 'machine': 0.005865102639296188, 'demonstrated': 0.002932551319648094, 'widespread': 0.002932551319648094, 'empirical': 0.002932551319648094, 'success': 0.002932551319648094, 'many': 0.002932551319648094, 'i': 0.002932551319648094, 'unconstrained': 0.002932551319648094, 'applications': 0.005865102639296188, 'Thus': 0.002932551319648094, 'both': 0.002932551319648094, 'aforementioned': 0.002932551319648094, 'natural': 0.002932551319648094, 'question': 0.005865102639296188, 'arises': 0.002932551319648094, ':': 0.002932551319648094, 'power': 0.002932551319648094, 'tapped': 0.002932551319648094, 'nonparametric': 0.002932551319648094, 'inference': 0.002932551319648094, 'then': 0.002932551319648094, 'deriving': 0.002932551319648094, 'collaborative': 0.002932551319648094, 'The': 0.002932551319648094, 'instantiation': 0.002932551319648094, 'thus': 0.002932551319648094, 'insight': 0.002932551319648094, 'into': 0.002932551319648094, 'these': 0.002932551319648094, 'gleaned': 0.002932551319648094, 'standard': 0.002932551319648094, 'analyses': 0.002932551319648094, 'mathematical': 0.002932551319648094, 'programming': 0.002932551319648094}\n"
     ]
    }
   ],
   "source": [
    "print(\"unigram probability\",unigram_prob)"
   ]
  },
  {
   "cell_type": "code",
   "execution_count": 12,
   "id": "811a4201",
   "metadata": {
    "scrolled": true
   },
   "outputs": [
    {
     "name": "stdout",
     "output_type": "stream",
     "text": [
      "add-1 smoothed unigram probability {'#': 0.025793650793650792, 'abstract': 0.003968253968253968, 'This': 0.003968253968253968, 'paper': 0.007936507936507936, 'addresses': 0.003968253968253968, 'the': 0.021825396825396824, 'problem': 0.005952380952380952, 'of': 0.015873015873015872, 'distributed': 0.023809523809523808, 'learning': 0.015873015873015872, 'under': 0.007936507936507936, 'communication': 0.00992063492063492, 'constraints': 0.00992063492063492, ',': 0.037698412698412696, 'motivated': 0.005952380952380952, 'by': 0.00992063492063492, 'signal': 0.007936507936507936, 'processing': 0.007936507936507936, 'in': 0.017857142857142856, 'wireless': 0.005952380952380952, 'sensor': 0.005952380952380952, 'networks': 0.005952380952380952, 'and': 0.015873015873015872, 'data': 0.00992063492063492, 'mining': 0.007936507936507936, 'with': 0.011904761904761904, 'databases': 0.00992063492063492, 'After': 0.003968253968253968, 'formalizing': 0.005952380952380952, 'a': 0.015873015873015872, 'general': 0.005952380952380952, 'model': 0.005952380952380952, 'for': 0.011904761904761904, 'an': 0.007936507936507936, 'algorithm': 0.00992063492063492, 'collaboratively': 0.003968253968253968, 'training': 0.005952380952380952, 'regularized': 0.005952380952380952, 'kernel': 0.005952380952380952, 'least-squares': 0.005952380952380952, 'regression': 0.005952380952380952, 'estimators': 0.003968253968253968, 'is': 0.005952380952380952, 'derived': 0.003968253968253968, 'Noting': 0.003968253968253968, 'that': 0.003968253968253968, 'can': 0.00992063492063492, 'be': 0.00992063492063492, 'viewed': 0.005952380952380952, 'as': 0.005952380952380952, 'application': 0.003968253968253968, 'successive': 0.005952380952380952, 'orthogonal': 0.005952380952380952, 'projection': 0.005952380952380952, 'algorithms': 0.007936507936507936, 'its': 0.003968253968253968, 'convergence': 0.003968253968253968, 'properties': 0.003968253968253968, 'are': 0.00992063492063492, 'investigated': 0.003968253968253968, 'statistical': 0.005952380952380952, 'behavior': 0.005952380952380952, 'estimator': 0.003968253968253968, 'discussed': 0.003968253968253968, 'simplified': 0.003968253968253968, 'theoretical': 0.003968253968253968, 'setting': 0.003968253968253968, 'introduction': 0.003968253968253968, 'In': 0.007936507936507936, 'this': 0.007936507936507936, 'we': 0.005952380952380952, 'address': 0.005952380952380952, 'primarily': 0.003968253968253968, '(': 0.007936507936507936, 'WSNs': 0.005952380952380952, ')': 0.007936507936507936, 'fortiori': 0.003968253968253968, 'designed': 0.003968253968253968, 'to': 0.011904761904761904, 'make': 0.005952380952380952, 'inferences': 0.005952380952380952, 'from': 0.007936507936507936, 'environments': 0.003968253968253968, 'they': 0.005952380952380952, 'sensing': 0.003968253968253968, ';': 0.005952380952380952, 'however': 0.005952380952380952, 'typically': 0.003968253968253968, 'characterized': 0.003968253968253968, 'on': 0.003968253968253968, 'energy': 0.003968253968253968, 'bandwidth': 0.003968253968253968, 'which': 0.003968253968253968, 'limit': 0.003968253968253968, 'sensors': 0.003968253968253968, \"'\": 0.003968253968253968, 'ability': 0.003968253968253968, 'share': 0.003968253968253968, 'each': 0.003968253968253968, 'other': 0.003968253968253968, 'or': 0.005952380952380952, 'centralized': 0.005952380952380952, 'fusion': 0.003968253968253968, 'center': 0.003968253968253968, 'multiple': 0.003968253968253968, 'agents': 0.003968253968253968, 'e': 0.005952380952380952, 'g': 0.003968253968253968, 'corporations': 0.003968253968253968, 'have': 0.005952380952380952, 'access': 0.003968253968253968, 'possibly': 0.003968253968253968, 'overlapping': 0.003968253968253968, 'wish': 0.003968253968253968, 'collaborate': 0.003968253968253968, 'optimal': 0.003968253968253968, 'privacy': 0.003968253968253968, 'security': 0.003968253968253968, 'concerns': 0.003968253968253968, 'may': 0.003968253968253968, 'preclude': 0.003968253968253968, 'them': 0.003968253968253968, 'fully': 0.003968253968253968, 'sharing': 0.003968253968253968, 'information': 0.003968253968253968, 'Nonparametric': 0.003968253968253968, 'methods': 0.005952380952380952, 'studied': 0.003968253968253968, 'within': 0.003968253968253968, 'machine': 0.005952380952380952, 'demonstrated': 0.003968253968253968, 'widespread': 0.003968253968253968, 'empirical': 0.003968253968253968, 'success': 0.003968253968253968, 'many': 0.003968253968253968, 'i': 0.003968253968253968, 'unconstrained': 0.003968253968253968, 'applications': 0.005952380952380952, 'Thus': 0.003968253968253968, 'both': 0.003968253968253968, 'aforementioned': 0.003968253968253968, 'natural': 0.003968253968253968, 'question': 0.005952380952380952, 'arises': 0.003968253968253968, ':': 0.003968253968253968, 'power': 0.003968253968253968, 'tapped': 0.003968253968253968, 'nonparametric': 0.003968253968253968, 'inference': 0.003968253968253968, 'then': 0.003968253968253968, 'deriving': 0.003968253968253968, 'collaborative': 0.003968253968253968, 'The': 0.003968253968253968, 'instantiation': 0.003968253968253968, 'thus': 0.003968253968253968, 'insight': 0.003968253968253968, 'into': 0.003968253968253968, 'these': 0.003968253968253968, 'gleaned': 0.003968253968253968, 'standard': 0.003968253968253968, 'analyses': 0.003968253968253968, 'mathematical': 0.003968253968253968, 'programming': 0.003968253968253968}\n"
     ]
    }
   ],
   "source": [
    "print(\"add-1 smoothed unigram probability\",add_1_prob)"
   ]
  },
  {
   "cell_type": "code",
   "execution_count": 13,
   "id": "319cab3d",
   "metadata": {
    "scrolled": true
   },
   "outputs": [
    {
     "name": "stdout",
     "output_type": "stream",
     "text": [
      "good tuning smoothed unigram probability {'#': 0.0, 'abstract': 2.5090622922182788e-05, 'This': 2.5090622922182788e-05, 'paper': 0.0007331378299120235, 'addresses': 2.5090622922182788e-05, 'the': 0.03225806451612903, 'problem': 7.711603178037355e-05, 'of': 0.001466275659824047, 'distributed': 0.03519061583577713, 'learning': 0.001466275659824047, 'under': 0.0007331378299120235, 'communication': 0.0005430650591940914, 'constraints': 0.0005430650591940914, ',': 0.0, 'motivated': 7.711603178037355e-05, 'by': 0.0005430650591940914, 'signal': 0.0007331378299120235, 'processing': 0.0007331378299120235, 'in': 0.0, 'wireless': 7.711603178037355e-05, 'sensor': 7.711603178037355e-05, 'networks': 7.711603178037355e-05, 'and': 0.001466275659824047, 'data': 0.0005430650591940914, 'mining': 0.0007331378299120235, 'with': 0.0, 'databases': 0.0005430650591940914, 'After': 2.5090622922182788e-05, 'formalizing': 7.711603178037355e-05, 'a': 0.001466275659824047, 'general': 7.711603178037355e-05, 'model': 7.711603178037355e-05, 'for': 0.0, 'an': 0.0007331378299120235, 'algorithm': 0.0005430650591940914, 'collaboratively': 2.5090622922182788e-05, 'training': 7.711603178037355e-05, 'regularized': 7.711603178037355e-05, 'kernel': 7.711603178037355e-05, 'least-squares': 7.711603178037355e-05, 'regression': 7.711603178037355e-05, 'estimators': 2.5090622922182788e-05, 'is': 7.711603178037355e-05, 'derived': 2.5090622922182788e-05, 'Noting': 2.5090622922182788e-05, 'that': 2.5090622922182788e-05, 'can': 0.0005430650591940914, 'be': 0.0005430650591940914, 'viewed': 7.711603178037355e-05, 'as': 7.711603178037355e-05, 'application': 2.5090622922182788e-05, 'successive': 7.711603178037355e-05, 'orthogonal': 7.711603178037355e-05, 'projection': 7.711603178037355e-05, 'algorithms': 0.0007331378299120235, 'its': 2.5090622922182788e-05, 'convergence': 2.5090622922182788e-05, 'properties': 2.5090622922182788e-05, 'are': 0.0005430650591940914, 'investigated': 2.5090622922182788e-05, 'statistical': 7.711603178037355e-05, 'behavior': 7.711603178037355e-05, 'estimator': 2.5090622922182788e-05, 'discussed': 2.5090622922182788e-05, 'simplified': 2.5090622922182788e-05, 'theoretical': 2.5090622922182788e-05, 'setting': 2.5090622922182788e-05, 'introduction': 2.5090622922182788e-05, 'In': 0.0007331378299120235, 'this': 0.0007331378299120235, 'we': 7.711603178037355e-05, 'address': 7.711603178037355e-05, 'primarily': 2.5090622922182788e-05, '(': 0.0007331378299120235, 'WSNs': 7.711603178037355e-05, ')': 0.0007331378299120235, 'fortiori': 2.5090622922182788e-05, 'designed': 2.5090622922182788e-05, 'to': 0.0, 'make': 7.711603178037355e-05, 'inferences': 7.711603178037355e-05, 'from': 0.0007331378299120235, 'environments': 2.5090622922182788e-05, 'they': 7.711603178037355e-05, 'sensing': 2.5090622922182788e-05, ';': 7.711603178037355e-05, 'however': 7.711603178037355e-05, 'typically': 2.5090622922182788e-05, 'characterized': 2.5090622922182788e-05, 'on': 2.5090622922182788e-05, 'energy': 2.5090622922182788e-05, 'bandwidth': 2.5090622922182788e-05, 'which': 2.5090622922182788e-05, 'limit': 2.5090622922182788e-05, 'sensors': 2.5090622922182788e-05, \"'\": 2.5090622922182788e-05, 'ability': 2.5090622922182788e-05, 'share': 2.5090622922182788e-05, 'each': 2.5090622922182788e-05, 'other': 2.5090622922182788e-05, 'or': 7.711603178037355e-05, 'centralized': 7.711603178037355e-05, 'fusion': 2.5090622922182788e-05, 'center': 2.5090622922182788e-05, 'multiple': 2.5090622922182788e-05, 'agents': 2.5090622922182788e-05, 'e': 7.711603178037355e-05, 'g': 2.5090622922182788e-05, 'corporations': 2.5090622922182788e-05, 'have': 7.711603178037355e-05, 'access': 2.5090622922182788e-05, 'possibly': 2.5090622922182788e-05, 'overlapping': 2.5090622922182788e-05, 'wish': 2.5090622922182788e-05, 'collaborate': 2.5090622922182788e-05, 'optimal': 2.5090622922182788e-05, 'privacy': 2.5090622922182788e-05, 'security': 2.5090622922182788e-05, 'concerns': 2.5090622922182788e-05, 'may': 2.5090622922182788e-05, 'preclude': 2.5090622922182788e-05, 'them': 2.5090622922182788e-05, 'fully': 2.5090622922182788e-05, 'sharing': 2.5090622922182788e-05, 'information': 2.5090622922182788e-05, 'Nonparametric': 2.5090622922182788e-05, 'methods': 7.711603178037355e-05, 'studied': 2.5090622922182788e-05, 'within': 2.5090622922182788e-05, 'machine': 7.711603178037355e-05, 'demonstrated': 2.5090622922182788e-05, 'widespread': 2.5090622922182788e-05, 'empirical': 2.5090622922182788e-05, 'success': 2.5090622922182788e-05, 'many': 2.5090622922182788e-05, 'i': 2.5090622922182788e-05, 'unconstrained': 2.5090622922182788e-05, 'applications': 7.711603178037355e-05, 'Thus': 2.5090622922182788e-05, 'both': 2.5090622922182788e-05, 'aforementioned': 2.5090622922182788e-05, 'natural': 2.5090622922182788e-05, 'question': 7.711603178037355e-05, 'arises': 2.5090622922182788e-05, ':': 2.5090622922182788e-05, 'power': 2.5090622922182788e-05, 'tapped': 2.5090622922182788e-05, 'nonparametric': 2.5090622922182788e-05, 'inference': 2.5090622922182788e-05, 'then': 2.5090622922182788e-05, 'deriving': 2.5090622922182788e-05, 'collaborative': 2.5090622922182788e-05, 'The': 2.5090622922182788e-05, 'instantiation': 2.5090622922182788e-05, 'thus': 2.5090622922182788e-05, 'insight': 2.5090622922182788e-05, 'into': 2.5090622922182788e-05, 'these': 2.5090622922182788e-05, 'gleaned': 2.5090622922182788e-05, 'standard': 2.5090622922182788e-05, 'analyses': 2.5090622922182788e-05, 'mathematical': 2.5090622922182788e-05, 'programming': 2.5090622922182788e-05}\n"
     ]
    }
   ],
   "source": [
    "print(\"good tuning smoothed unigram probability\",g_t_prob)"
   ]
  },
  {
   "cell_type": "markdown",
   "id": "5ed45c7c",
   "metadata": {},
   "source": [
    "# 3) Calculate and print                                                                                               a) all the unigram counts from the training data (Use Model 1).                                b) all the Add-1 unigram smoothed counts from the training data (Use Model 2). c) all the Good Turing unigram smoothed counts from the training data (Use Model 3)."
   ]
  },
  {
   "cell_type": "code",
   "execution_count": 14,
   "id": "14411c9f",
   "metadata": {},
   "outputs": [
    {
     "name": "stdout",
     "output_type": "stream",
     "text": [
      "unigram smoothed count {'#': 12, 'abstract': 1, 'This': 1, 'paper': 3, 'addresses': 1, 'the': 10, 'problem': 2, 'of': 7, 'distributed': 11, 'learning': 7, 'under': 3, 'communication': 4, 'constraints': 4, ',': 18, 'motivated': 2, 'by': 4, 'signal': 3, 'processing': 3, 'in': 8, 'wireless': 2, 'sensor': 2, 'networks': 2, 'and': 7, 'data': 4, 'mining': 3, 'with': 5, 'databases': 4, 'After': 1, 'formalizing': 2, 'a': 7, 'general': 2, 'model': 2, 'for': 5, 'an': 3, 'algorithm': 4, 'collaboratively': 1, 'training': 2, 'regularized': 2, 'kernel': 2, 'least-squares': 2, 'regression': 2, 'estimators': 1, 'is': 2, 'derived': 1, 'Noting': 1, 'that': 1, 'can': 4, 'be': 4, 'viewed': 2, 'as': 2, 'application': 1, 'successive': 2, 'orthogonal': 2, 'projection': 2, 'algorithms': 3, 'its': 1, 'convergence': 1, 'properties': 1, 'are': 4, 'investigated': 1, 'statistical': 2, 'behavior': 2, 'estimator': 1, 'discussed': 1, 'simplified': 1, 'theoretical': 1, 'setting': 1, 'introduction': 1, 'In': 3, 'this': 3, 'we': 2, 'address': 2, 'primarily': 1, '(': 3, 'WSNs': 2, ')': 3, 'fortiori': 1, 'designed': 1, 'to': 5, 'make': 2, 'inferences': 2, 'from': 3, 'environments': 1, 'they': 2, 'sensing': 1, ';': 2, 'however': 2, 'typically': 1, 'characterized': 1, 'on': 1, 'energy': 1, 'bandwidth': 1, 'which': 1, 'limit': 1, 'sensors': 1, \"'\": 1, 'ability': 1, 'share': 1, 'each': 1, 'other': 1, 'or': 2, 'centralized': 2, 'fusion': 1, 'center': 1, 'multiple': 1, 'agents': 1, 'e': 2, 'g': 1, 'corporations': 1, 'have': 2, 'access': 1, 'possibly': 1, 'overlapping': 1, 'wish': 1, 'collaborate': 1, 'optimal': 1, 'privacy': 1, 'security': 1, 'concerns': 1, 'may': 1, 'preclude': 1, 'them': 1, 'fully': 1, 'sharing': 1, 'information': 1, 'Nonparametric': 1, 'methods': 2, 'studied': 1, 'within': 1, 'machine': 2, 'demonstrated': 1, 'widespread': 1, 'empirical': 1, 'success': 1, 'many': 1, 'i': 1, 'unconstrained': 1, 'applications': 2, 'Thus': 1, 'both': 1, 'aforementioned': 1, 'natural': 1, 'question': 2, 'arises': 1, ':': 1, 'power': 1, 'tapped': 1, 'nonparametric': 1, 'inference': 1, 'then': 1, 'deriving': 1, 'collaborative': 1, 'The': 1, 'instantiation': 1, 'thus': 1, 'insight': 1, 'into': 1, 'these': 1, 'gleaned': 1, 'standard': 1, 'analyses': 1, 'mathematical': 1, 'programming': 1}\n"
     ]
    }
   ],
   "source": [
    "print(\"unigram smoothed count\",unigram_vocab)"
   ]
  },
  {
   "cell_type": "code",
   "execution_count": 15,
   "id": "f27a9542",
   "metadata": {
    "scrolled": true
   },
   "outputs": [
    {
     "name": "stdout",
     "output_type": "stream",
     "text": [
      "add-1 smoothed unigram count {'#': 8.795634920634921, 'abstract': 1.353174603174603, 'This': 1.353174603174603, 'paper': 2.706349206349206, 'addresses': 1.353174603174603, 'the': 7.442460317460317, 'problem': 2.0297619047619047, 'of': 5.412698412698412, 'distributed': 8.119047619047619, 'learning': 5.412698412698412, 'under': 2.706349206349206, 'communication': 3.382936507936508, 'constraints': 3.382936507936508, ',': 12.85515873015873, 'motivated': 2.0297619047619047, 'by': 3.382936507936508, 'signal': 2.706349206349206, 'processing': 2.706349206349206, 'in': 6.0892857142857135, 'wireless': 2.0297619047619047, 'sensor': 2.0297619047619047, 'networks': 2.0297619047619047, 'and': 5.412698412698412, 'data': 3.382936507936508, 'mining': 2.706349206349206, 'with': 4.059523809523809, 'databases': 3.382936507936508, 'After': 1.353174603174603, 'formalizing': 2.0297619047619047, 'a': 5.412698412698412, 'general': 2.0297619047619047, 'model': 2.0297619047619047, 'for': 4.059523809523809, 'an': 2.706349206349206, 'algorithm': 3.382936507936508, 'collaboratively': 1.353174603174603, 'training': 2.0297619047619047, 'regularized': 2.0297619047619047, 'kernel': 2.0297619047619047, 'least-squares': 2.0297619047619047, 'regression': 2.0297619047619047, 'estimators': 1.353174603174603, 'is': 2.0297619047619047, 'derived': 1.353174603174603, 'Noting': 1.353174603174603, 'that': 1.353174603174603, 'can': 3.382936507936508, 'be': 3.382936507936508, 'viewed': 2.0297619047619047, 'as': 2.0297619047619047, 'application': 1.353174603174603, 'successive': 2.0297619047619047, 'orthogonal': 2.0297619047619047, 'projection': 2.0297619047619047, 'algorithms': 2.706349206349206, 'its': 1.353174603174603, 'convergence': 1.353174603174603, 'properties': 1.353174603174603, 'are': 3.382936507936508, 'investigated': 1.353174603174603, 'statistical': 2.0297619047619047, 'behavior': 2.0297619047619047, 'estimator': 1.353174603174603, 'discussed': 1.353174603174603, 'simplified': 1.353174603174603, 'theoretical': 1.353174603174603, 'setting': 1.353174603174603, 'introduction': 1.353174603174603, 'In': 2.706349206349206, 'this': 2.706349206349206, 'we': 2.0297619047619047, 'address': 2.0297619047619047, 'primarily': 1.353174603174603, '(': 2.706349206349206, 'WSNs': 2.0297619047619047, ')': 2.706349206349206, 'fortiori': 1.353174603174603, 'designed': 1.353174603174603, 'to': 4.059523809523809, 'make': 2.0297619047619047, 'inferences': 2.0297619047619047, 'from': 2.706349206349206, 'environments': 1.353174603174603, 'they': 2.0297619047619047, 'sensing': 1.353174603174603, ';': 2.0297619047619047, 'however': 2.0297619047619047, 'typically': 1.353174603174603, 'characterized': 1.353174603174603, 'on': 1.353174603174603, 'energy': 1.353174603174603, 'bandwidth': 1.353174603174603, 'which': 1.353174603174603, 'limit': 1.353174603174603, 'sensors': 1.353174603174603, \"'\": 1.353174603174603, 'ability': 1.353174603174603, 'share': 1.353174603174603, 'each': 1.353174603174603, 'other': 1.353174603174603, 'or': 2.0297619047619047, 'centralized': 2.0297619047619047, 'fusion': 1.353174603174603, 'center': 1.353174603174603, 'multiple': 1.353174603174603, 'agents': 1.353174603174603, 'e': 2.0297619047619047, 'g': 1.353174603174603, 'corporations': 1.353174603174603, 'have': 2.0297619047619047, 'access': 1.353174603174603, 'possibly': 1.353174603174603, 'overlapping': 1.353174603174603, 'wish': 1.353174603174603, 'collaborate': 1.353174603174603, 'optimal': 1.353174603174603, 'privacy': 1.353174603174603, 'security': 1.353174603174603, 'concerns': 1.353174603174603, 'may': 1.353174603174603, 'preclude': 1.353174603174603, 'them': 1.353174603174603, 'fully': 1.353174603174603, 'sharing': 1.353174603174603, 'information': 1.353174603174603, 'Nonparametric': 1.353174603174603, 'methods': 2.0297619047619047, 'studied': 1.353174603174603, 'within': 1.353174603174603, 'machine': 2.0297619047619047, 'demonstrated': 1.353174603174603, 'widespread': 1.353174603174603, 'empirical': 1.353174603174603, 'success': 1.353174603174603, 'many': 1.353174603174603, 'i': 1.353174603174603, 'unconstrained': 1.353174603174603, 'applications': 2.0297619047619047, 'Thus': 1.353174603174603, 'both': 1.353174603174603, 'aforementioned': 1.353174603174603, 'natural': 1.353174603174603, 'question': 2.0297619047619047, 'arises': 1.353174603174603, ':': 1.353174603174603, 'power': 1.353174603174603, 'tapped': 1.353174603174603, 'nonparametric': 1.353174603174603, 'inference': 1.353174603174603, 'then': 1.353174603174603, 'deriving': 1.353174603174603, 'collaborative': 1.353174603174603, 'The': 1.353174603174603, 'instantiation': 1.353174603174603, 'thus': 1.353174603174603, 'insight': 1.353174603174603, 'into': 1.353174603174603, 'these': 1.353174603174603, 'gleaned': 1.353174603174603, 'standard': 1.353174603174603, 'analyses': 1.353174603174603, 'mathematical': 1.353174603174603, 'programming': 1.353174603174603}\n"
     ]
    }
   ],
   "source": [
    "print(\"add-1 smoothed unigram count\",add_1_vocab)"
   ]
  },
  {
   "cell_type": "code",
   "execution_count": 16,
   "id": "a0e19e38",
   "metadata": {
    "scrolled": true
   },
   "outputs": [
    {
     "name": "stdout",
     "output_type": "stream",
     "text": [
      "good tuning smoothed unigram count {'#': 0.0, 'abstract': 0.00855590241646433, 'This': 0.00855590241646433, 'paper': 0.25, 'addresses': 0.00855590241646433, 'the': 11.0, 'problem': 0.02629656683710738, 'of': 0.5, 'distributed': 12.0, 'learning': 0.5, 'under': 0.25, 'communication': 0.18518518518518517, 'constraints': 0.18518518518518517, ',': 0.0, 'motivated': 0.02629656683710738, 'by': 0.18518518518518517, 'signal': 0.25, 'processing': 0.25, 'in': 0.0, 'wireless': 0.02629656683710738, 'sensor': 0.02629656683710738, 'networks': 0.02629656683710738, 'and': 0.5, 'data': 0.18518518518518517, 'mining': 0.25, 'with': 0.0, 'databases': 0.18518518518518517, 'After': 0.00855590241646433, 'formalizing': 0.02629656683710738, 'a': 0.5, 'general': 0.02629656683710738, 'model': 0.02629656683710738, 'for': 0.0, 'an': 0.25, 'algorithm': 0.18518518518518517, 'collaboratively': 0.00855590241646433, 'training': 0.02629656683710738, 'regularized': 0.02629656683710738, 'kernel': 0.02629656683710738, 'least-squares': 0.02629656683710738, 'regression': 0.02629656683710738, 'estimators': 0.00855590241646433, 'is': 0.02629656683710738, 'derived': 0.00855590241646433, 'Noting': 0.00855590241646433, 'that': 0.00855590241646433, 'can': 0.18518518518518517, 'be': 0.18518518518518517, 'viewed': 0.02629656683710738, 'as': 0.02629656683710738, 'application': 0.00855590241646433, 'successive': 0.02629656683710738, 'orthogonal': 0.02629656683710738, 'projection': 0.02629656683710738, 'algorithms': 0.25, 'its': 0.00855590241646433, 'convergence': 0.00855590241646433, 'properties': 0.00855590241646433, 'are': 0.18518518518518517, 'investigated': 0.00855590241646433, 'statistical': 0.02629656683710738, 'behavior': 0.02629656683710738, 'estimator': 0.00855590241646433, 'discussed': 0.00855590241646433, 'simplified': 0.00855590241646433, 'theoretical': 0.00855590241646433, 'setting': 0.00855590241646433, 'introduction': 0.00855590241646433, 'In': 0.25, 'this': 0.25, 'we': 0.02629656683710738, 'address': 0.02629656683710738, 'primarily': 0.00855590241646433, '(': 0.25, 'WSNs': 0.02629656683710738, ')': 0.25, 'fortiori': 0.00855590241646433, 'designed': 0.00855590241646433, 'to': 0.0, 'make': 0.02629656683710738, 'inferences': 0.02629656683710738, 'from': 0.25, 'environments': 0.00855590241646433, 'they': 0.02629656683710738, 'sensing': 0.00855590241646433, ';': 0.02629656683710738, 'however': 0.02629656683710738, 'typically': 0.00855590241646433, 'characterized': 0.00855590241646433, 'on': 0.00855590241646433, 'energy': 0.00855590241646433, 'bandwidth': 0.00855590241646433, 'which': 0.00855590241646433, 'limit': 0.00855590241646433, 'sensors': 0.00855590241646433, \"'\": 0.00855590241646433, 'ability': 0.00855590241646433, 'share': 0.00855590241646433, 'each': 0.00855590241646433, 'other': 0.00855590241646433, 'or': 0.02629656683710738, 'centralized': 0.02629656683710738, 'fusion': 0.00855590241646433, 'center': 0.00855590241646433, 'multiple': 0.00855590241646433, 'agents': 0.00855590241646433, 'e': 0.02629656683710738, 'g': 0.00855590241646433, 'corporations': 0.00855590241646433, 'have': 0.02629656683710738, 'access': 0.00855590241646433, 'possibly': 0.00855590241646433, 'overlapping': 0.00855590241646433, 'wish': 0.00855590241646433, 'collaborate': 0.00855590241646433, 'optimal': 0.00855590241646433, 'privacy': 0.00855590241646433, 'security': 0.00855590241646433, 'concerns': 0.00855590241646433, 'may': 0.00855590241646433, 'preclude': 0.00855590241646433, 'them': 0.00855590241646433, 'fully': 0.00855590241646433, 'sharing': 0.00855590241646433, 'information': 0.00855590241646433, 'Nonparametric': 0.00855590241646433, 'methods': 0.02629656683710738, 'studied': 0.00855590241646433, 'within': 0.00855590241646433, 'machine': 0.02629656683710738, 'demonstrated': 0.00855590241646433, 'widespread': 0.00855590241646433, 'empirical': 0.00855590241646433, 'success': 0.00855590241646433, 'many': 0.00855590241646433, 'i': 0.00855590241646433, 'unconstrained': 0.00855590241646433, 'applications': 0.02629656683710738, 'Thus': 0.00855590241646433, 'both': 0.00855590241646433, 'aforementioned': 0.00855590241646433, 'natural': 0.00855590241646433, 'question': 0.02629656683710738, 'arises': 0.00855590241646433, ':': 0.00855590241646433, 'power': 0.00855590241646433, 'tapped': 0.00855590241646433, 'nonparametric': 0.00855590241646433, 'inference': 0.00855590241646433, 'then': 0.00855590241646433, 'deriving': 0.00855590241646433, 'collaborative': 0.00855590241646433, 'The': 0.00855590241646433, 'instantiation': 0.00855590241646433, 'thus': 0.00855590241646433, 'insight': 0.00855590241646433, 'into': 0.00855590241646433, 'these': 0.00855590241646433, 'gleaned': 0.00855590241646433, 'standard': 0.00855590241646433, 'analyses': 0.00855590241646433, 'mathematical': 0.00855590241646433, 'programming': 0.00855590241646433}\n"
     ]
    }
   ],
   "source": [
    "print(\"good tuning smoothed unigram count\",g_t_vocab)"
   ]
  },
  {
   "cell_type": "markdown",
   "id": "39279c17",
   "metadata": {},
   "source": [
    "# 4) Calculate the probability of the test sentence                                                     a) using unsmoothed Model 1                                                                                   b) using Add-1 smoothed Model 2                                                                             c) using Good Turing smoothed Model 3"
   ]
  },
  {
   "cell_type": "code",
   "execution_count": 17,
   "id": "8103d3eb",
   "metadata": {},
   "outputs": [
    {
     "name": "stdout",
     "output_type": "stream",
     "text": [
      "probability of test sentence without any smoothing =  0.0\n"
     ]
    }
   ],
   "source": [
    "test=['however','the','distributed','rather','imbalance']\n",
    "final_prob=1\n",
    "for word in test:\n",
    "    if word not in unigram_prob:\n",
    "        final_prob=final_prob*0\n",
    "        continue\n",
    "    final_prob=final_prob*unigram_prob[word]\n",
    "print(\"probability of test sentence without any smoothing = \",final_prob)"
   ]
  },
  {
   "cell_type": "code",
   "execution_count": 18,
   "id": "7164d988",
   "metadata": {},
   "outputs": [
    {
     "name": "stdout",
     "output_type": "stream",
     "text": [
      "probability of test sentence using add one smoothing =  1.1642020717094912e-10\n"
     ]
    }
   ],
   "source": [
    "final_prob=1\n",
    "for word in test:\n",
    "    if word not in unigram_vocab:\n",
    "        final_prob=final_prob*(1/len(unigram_vocab))\n",
    "        continue\n",
    "    final_prob=final_prob*add_1_prob[word]\n",
    "print(\"probability of test sentence using add one smoothing = \",final_prob)"
   ]
  },
  {
   "cell_type": "code",
   "execution_count": 19,
   "id": "fe43fc55",
   "metadata": {},
   "outputs": [
    {
     "name": "stdout",
     "output_type": "stream",
     "text": [
      "probability of test sentence using good tuning smoothing =  1.0317077470185016e-07\n"
     ]
    }
   ],
   "source": [
    "test_vocab=get_vocab(test)\n",
    "\n",
    "n_0_prob=0\n",
    "n_0_count=0\n",
    "for word in test_vocab:\n",
    "    if word not in unigram_vocab:\n",
    "        n_0_count=n_0_count+1\n",
    "        \n",
    "n_0_prob=zero_count_prob/n_0_count\n",
    "\n",
    "final_prob=1\n",
    "for word in test:\n",
    "    if word not in unigram_vocab:\n",
    "        final_prob=final_prob*n_0_prob\n",
    "        continue\n",
    "    final_prob=final_prob*unigram_prob[word]\n",
    "print(\"probability of test sentence using good tuning smoothing = \",final_prob)"
   ]
  }
 ],
 "metadata": {
  "kernelspec": {
   "display_name": "Python 3 (ipykernel)",
   "language": "python",
   "name": "python3"
  },
  "language_info": {
   "codemirror_mode": {
    "name": "ipython",
    "version": 3
   },
   "file_extension": ".py",
   "mimetype": "text/x-python",
   "name": "python",
   "nbconvert_exporter": "python",
   "pygments_lexer": "ipython3",
   "version": "3.7.11"
  }
 },
 "nbformat": 4,
 "nbformat_minor": 5
}

{
 "cells": [
  {
   "cell_type": "code",
   "execution_count": 1,
   "id": "6c3b369b",
   "metadata": {},
   "outputs": [],
   "source": [
    "dataFile = open(\"corpus.txt\", \"r\")\n",
    "pre_words = dataFile.readline().split()\n",
    "\n",
    "tokens=[]\n",
    "for x in pre_words:\n",
    "    if x[-1]==',' or x[-1]=='.' or x[0]=='.':\n",
    "        tokens.append(x[:-1])\n",
    "    else:\n",
    "        tokens.append(x)"
   ]
  },
  {
   "cell_type": "code",
   "execution_count": 2,
   "id": "7ba164ce",
   "metadata": {
    "scrolled": true
   },
   "outputs": [
    {
     "name": "stdout",
     "output_type": "stream",
     "text": [
      "['In', 'the', 'AI', 'and', '.D.a.t', 'Science', 'cluster', 'I', 'learnt', 'about', 'Deployable', 'Artificial', 'Intelligence', 'What', 'were', 'the', 'failures', 'apart', 'from', 'laboratory', 'failures', 'which', 'makes', 'transition', 'from', 'laboratory', 'success', 'to', 'real', 'world', 'indirect', 'Furthermore', 'I', 'got', 'to', 'know', 'about', 'the', 'broad', 'project', 'areas', 'like', 'Fair/Social', 'good', 'in', 'AI', 'Explainable', 'AI', 'Private', 'and', 'Safe', 'AI', 'and', 'AI', 'for', 'Edge', 'along', 'with', 'their', 'detailed', 'objectives', 'In', 'Second', 'webinar', 'I', 'learnt', 'about', 'integrative', 'biology', 'system', 'medicine', 'Adding', 'more', 'to', 'that', 'I', 'also', 'learnt', 'about', 'four', 'research', 'projects', 'GARBH-Ini', 'PRETERM', 'BIRTH', 'COHORT', 'GenomeIndia', 'MulTiGenomics', 'and', 'MetaSub', 'CHENNAI', 'and', 'how', 'they', 'would', 'be', 'helpful', 'in', 'context', 'to', 'Indian', 'people', 'In', 'the', 'third', 'seminar', 'of', 'the', 'same', 'cluster', 'I', 'learned', 'about', 'what', 'is', 'sports', 'analytics', 'how', 'it', 'is', 'helping', 'in', 'both', 'categories', 'of', 'off-field', 'and', 'On-field', 'analytics', 'and', 'how', 'it', 'is', 'becoming', 'a', 'multi-billion', 'industry', 'I', 'also', 'learned', 'how', 'actionable', 'insights', 'results', 'using', 'data', 'science,IoT/Sensors', 'First', 'Principles', 'Modelling', 'would', 'be', 'used', 'for', 'improving', 'players', 'performance', 'improvement', 'rule', 'enforcement', 'etc', 'In', 'the', 'Ocean', 'Technology', 'cluster', 'I', 'learned', 'what', 'are', 'the', 'challenges', 'in', 'ocean', 'engineering', 'in', 'general', 'like', 'in', 'offshore', 'engineering', 'wave', 'floating', 'structures', 'and', 'coastal', 'engineering', 'I', 'also', 'learned', 'about', 'the', 'research', 'activities', 'which', 'were', 'going', 'to', 'be', 'carried', 'out', 'in', 'the', 'center', 'to', 'overcome', 'the', 'challenges', 'In', 'the', 'Big', 'Networks', 'cluster', 'in', 'the', 'connected', 'Intelligent', 'urban', 'transportation', 'webinar', 'I', 'learned', 'why', 'we', 'need', 'intelligent', 'urban', 'transportation', 'what', 'are', 'the', 'problems', 'for', 'which', 'it', 'is', 'needed', 'I', 'also', 'learned', 'about', 'connected', 'vehicle', 'technologies', 'and', 'how', 'from', 'it', 'the', 'problems', 'will', 'be', 'solved.Furthermore', 'I', 'learned', 'about', 'distinct', 'areas', 'like', 'traffic', 'flow', '&', 'control', 'travel', '&', 'driving', 'behaviour', 'payment', '&', 'geometric', 'conditions', 'I', 'also', 'learned', 'about', 'interrelated', 'areas', 'in', 'connected', 'transport', 'and', 'what', 'will', 'be', 'the', 'changes', 'in', 'these', 'areas', 'using', 'connected', 'transport', 'I', 'also', 'learned', 'how', 'the', 'lab', 'will', 'be', 'working', 'to', 'achieve', 'transport', 'technology', 'In', 'another', 'webinar', 'I', 'learnt', 'about', 'the', 'different', 'types', 'of', 'network', 'systems', 'what', 'they', 'are', 'in', 'the', 'real', 'world', 'and', 'why', 'they', 'need', 'to', 'be', 'studied', 'I', 'also', 'get', 'to', 'know', 'about', 'the', 'idea', 'which', 'will', 'help', 'to', 'achieve', 'the', 'goal', 'of', 'learning', 'a', 'network', 'system', 'Furthermore', 'I', 'got', 'to', 'know', 'about', 'the', 'four', 'research', 'projects', 'like', 'Biological', 'Networks', 'Brain', 'Networks', 'Process', 'Networks', 'Infrastructure', 'Networks', 'and', 'how', 'different', 'problems', 'will', 'be', 'solved', 'in', 'these', 'projects', 'In', 'the', 'first', 'webinar', 'of', 'Advanced', 'materials', 'cluster', 'I', 'got', 'to', 'know', 'about', 'soft', 'materials', 'and', 'aneurysm', 'I', 'also', 'get', 'a', 'brief', 'idea', 'how', 'the', 'two', 'goals', 'will', 'be', 'achieved:', 'one', 'to', 'accurately', 'predict', 'the', 'growth', 'and', 'rupture', 'of', 'abdominal', 'aortic', 'aneurysm(AAA)', 'and', 'other', 'to', 'develop', 'a', 'lab', 'on', 'chip', 'device', 'I', 'also', 'get', 'idea', 'how', 'different', 'problems', 'and', 'challenges', 'will', 'be', 'solved', 'In', 'the', 'second', 'webinar', 'I', 'learned', 'about', 'metamaterials', 'from', 'a', 'broad', 'perspective', 'and', 'got', 'to', 'know', 'about', 'the', 'idea', 'of', 'designing', 'metamaterials', 'and', 'how', 'it', 'can', 'be', 'done', 'Furthermore', 'I', 'learned', 'what', 'the', 'metamaterials', 'can', 'do', 'with', 'its', 'features', 'and', 'how', 'it', 'can', 'help', 'in', 'various', 'applications', 'I', 'also', 'get', 'to', 'know', 'about', 'modelling', 'and', 'simulation', 'tools', 'for', 'designing', 'metamaterials', 'I', 'also', 'learned', 'why', 'the', 'designing', 'of', 'metamaterials', 'needs', 'to', 'be', 'optimized', 'by', 'various', 'schemes', 'Adding', 'more', 'to', 'that', 'I', 'get', 'to', 'know', 'about', 'additive', 'manufacturing', 'technologies', 'and', 'its', 'various', 'advantages', 'and', 'also', 'how', 'it', 'helps', 'in', 'making', 'metamaterials', 'In', 'the', 'first', 'webinar', 'of', 'Humanities', 'and', 'Business', 'Cluster', 'I', 'got', 'to', 'know', 'about', 'the', 'start-ups', 'in', 'India', 'how', 'they', 'have', 'evolved', 'from', '1992', 'to', '2020', 'and', 'have', 'been', 'impacting', 'the', 'economy', 'I', 'also', 'got', 'to', 'know', 'about', 'various', 'ways', 'by', 'which', 'start-ups', 'will', 'be', 'successful', 'like', 'nurturing', 'them', 'with', 'the', 'growing', 'network', 'of', 'incubators', 'and', 'with', 'the', 'strengthening', 'of', 'triple', 'helix', 'instructions', 'by', 'the', 'centre', 'Furthermore', 'I', 'also', 'get', 'to', 'know', 'about', 'venture', 'capital', 'and', 'angel', 'investments', 'In', 'the', 'second', 'webinar', 'of', 'the', 'same', 'cluster', 'I', 'get', 'a', 'brief', 'understanding', 'of', 'memory', 'studies', 'how', 'it', 'will', 'be', 'studied', 'using', 'various', 'technologies', 'and', 'how', 'the', 'embedded', 'extended', 'and', 'enactive', 'models', 'of', 'memory', 'will', 'be', 'examined', 'through', 'the', 'centre', 'project', 'at', 'neural', 'and', 'cultural', 'levels', 'In', 'the', 'webinar', 'of', 'energy', 'propulsion', 'and', 'renewable', 'cluster', 'I', 'gained', 'an', 'overview', 'of', 'microgrids', 'technologies', 'with', 'its', 'deployment', 'survey', 'using', 'different', 'sources', 'in', 'various', 'locations', 'in', 'the', 'world', 'and', 'hence', 'was', 'able', 'to', 'know', 'about', 'the', 'characteristics', 'of', 'it', 'and', 'from', 'these', 'observations', 'learned', 'how', 'different', 'questions', 'will', 'be', 'addressed', 'by', 'centre', 'by', 'new', 'technologies', 'I', 'also', 'learned', 'the', 'microgrid', 'visualisation', 'of', 'the', 'centre', 'which', 'is', 'deployed', 'using', 'solar', 'photovoltaic', 'and', 'will', 'also', 'be', 'done', 'using', 'other', 'sources', 'like', 'micro-gas', 'turbine', 'municipal', 'generated', 'waste', 'In', 'the', 'mathematics', 'and', 'cybersecurity', 'cluster', 'I', 'learned', 'how', 'the', 'center', 'will', 'cover', 'fundamentals', 'to', 'developing', 'applications', 'in', 'theory', 'as', 'well', 'as', 'building', 'real', 'world', 'protocols', 'Then', 'I', 'also', 'learned', 'why', 'we', 'need', 'quantum', 'secure', 'protocols', 'which', 'are', 'quantum', 'secure', 'and', 'how', 'they', 'will', 'be', 'developed', 'Furthermore', 'I', 'learned', 'why', 'security', 'is', 'necessary', 'in', 'big', 'data', 'and', 'what', 'are', 'the', 'different', 'solutions', 'for', 'encrypted', 'solutions', 'Also', 'I', 'get', 'to', 'learn', 'about', 'the', 'design', 'of', 'protocols', 'for', 'peer', 'to', 'peer', 'networks', 'to', 'make', 'them', 'hard', 'for', 'malicious', 'participants', 'I', 'also', 'learned', 'why', 'Cryptographic', 'theory', 'that', 'supports', 'practice', 'is', 'more', 'efficient', 'than', 'just', 'rich', 'cryptographic', 'theory', 'In', 'the', 'first', 'webinar', 'of', 'Microelectronics', 'and', 'Integrated', 'Circuits', 'I', 'learned', 'about', 'carbon', 'nanostructures', 'with', 'their', 'applications', 'and', 'its', 'advantages', 'due', 'to', 'which', 'there', 'is', 'a', 'good', 'scope', 'of', 'it', 'I', 'also', 'learned', 'on', 'how', 'the', 'centre', 'will', 'be', 'focussing', 'on', 'carbon', 'nanostructures', 'with', 'very', 'high', 'emission', 'properties', 'and', 'what', 'are', 'the', 'challenges', 'on', 'it', 'I', 'also', 'get', 'to', 'know', 'about', 'carbon', 'dots', 'and', 'how', 'change', 'in', 'parameters', 'of', 'its', 'growth', 'can', 'give', 'diverse', 'types', 'of', 'carbon', 'dots', 'I', 'also', 'got', 'to', 'know', 'briefly', 'about', 'ways', 'how', 'graphene', 'can', 'act', 'as', 'a', 'component', 'of', 'opt-electronic', 'devices', 'In', 'the', 'second', 'webinar', 'of', 'the', 'same', 'cluster', 'I', 'got', 'a', 'brief', 'understanding', 'of', 'organic', 'semiconductors', 'device', 'structure', 'for', 'OLED', 'In', 'the', 'next', 'webinar', 'I', 'got', 'to', 'know', 'about', 'the', 'necessity', 'for', 'high', 'speed', 'computing', 'devices', 'with', 'the', 'challenges', 'and', 'got', 'to', 'know', 'about', 'high', 'speed', 'non', 'volatile', 'memories', 'I', 'also', 'get', 'to', 'know', 'about', 'the', 'thrust', 'areas', 'and', 'technology', 'development', 'of', 'the', 'centre', 'I', 'also', 'got', 'to', 'know', 'about', 'phase', 'change', 'memory', 'electrical', 'switching', 'and', 'milestones', 'in', 'the', 'last', 'years', 'Lastly', 'I', 'gain', 'knowledge', 'about', 'resistive', 'random', 'access', 'memory']\n"
     ]
    }
   ],
   "source": [
    "print(tokens)"
   ]
  },
  {
   "cell_type": "code",
   "execution_count": 3,
   "id": "d17f107d",
   "metadata": {},
   "outputs": [
    {
     "name": "stdout",
     "output_type": "stream",
     "text": [
      "COUNT OF TOKENS =  1041 \n",
      " COUNT OF VOCABULARY =  380\n"
     ]
    }
   ],
   "source": [
    "print(\"COUNT OF TOKENS = \",len(tokens),'\\n',\"COUNT OF VOCABULARY = \",len(set(tokens)))"
   ]
  },
  {
   "cell_type": "code",
   "execution_count": 4,
   "id": "0badc68d",
   "metadata": {
    "scrolled": true
   },
   "outputs": [],
   "source": [
    "token_count=dict()\n",
    "\n",
    "for token in tokens:\n",
    "    if token in token_count:\n",
    "        token_count[token]+=1\n",
    "    else:\n",
    "        token_count[token]=1"
   ]
  },
  {
   "cell_type": "code",
   "execution_count": 5,
   "id": "e9958844",
   "metadata": {
    "scrolled": true
   },
   "outputs": [
    {
     "name": "stdout",
     "output_type": "stream",
     "text": [
      "[('.D.a.t', 1), ('1992', 1), ('2020', 1), ('Advanced', 1), ('Also', 1), ('Artificial', 1), ('BIRTH', 1), ('Big', 1), ('Biological', 1), ('Brain', 1), ('Business', 1), ('CHENNAI', 1), ('COHORT', 1), ('Circuits', 1), ('Cluster', 1), ('Cryptographic', 1), ('Deployable', 1), ('Edge', 1), ('Explainable', 1), ('Fair/Social', 1), ('First', 1), ('GARBH-Ini', 1), ('GenomeIndia', 1), ('Humanities', 1), ('India', 1), ('Indian', 1), ('Infrastructure', 1), ('Integrated', 1), ('Intelligence', 1), ('Intelligent', 1), ('Lastly', 1), ('MetaSub', 1), ('Microelectronics', 1), ('Modelling', 1), ('MulTiGenomics', 1), ('OLED', 1), ('Ocean', 1), ('On-field', 1), ('PRETERM', 1), ('Principles', 1), ('Private', 1), ('Process', 1), ('Safe', 1), ('Science', 1), ('Second', 1), ('Technology', 1), ('Then', 1), ('What', 1), ('abdominal', 1), ('able', 1), ('access', 1), ('accurately', 1), ('achieved:', 1), ('act', 1), ('actionable', 1), ('activities', 1), ('additive', 1), ('addressed', 1), ('along', 1), ('an', 1), ('aneurysm', 1), ('aneurysm(AAA)', 1), ('angel', 1), ('another', 1), ('aortic', 1), ('apart', 1), ('at', 1), ('becoming', 1), ('been', 1), ('behaviour', 1), ('big', 1), ('biology', 1), ('both', 1), ('briefly', 1), ('building', 1), ('capital', 1), ('carried', 1), ('categories', 1), ('changes', 1), ('characteristics', 1), ('chip', 1), ('coastal', 1), ('component', 1), ('computing', 1), ('conditions', 1), ('context', 1), ('control', 1), ('cover', 1), ('cryptographic', 1), ('cultural', 1), ('cybersecurity', 1), ('deployed', 1), ('deployment', 1), ('design', 1), ('detailed', 1), ('develop', 1), ('developed', 1), ('developing', 1), ('development', 1), ('distinct', 1), ('diverse', 1), ('do', 1), ('driving', 1), ('due', 1), ('economy', 1), ('efficient', 1), ('electrical', 1), ('embedded', 1), ('emission', 1), ('enactive', 1), ('encrypted', 1), ('energy', 1), ('enforcement', 1), ('etc', 1), ('evolved', 1), ('examined', 1), ('extended', 1), ('features', 1), ('floating', 1), ('flow', 1), ('focussing', 1), ('fundamentals', 1), ('gain', 1), ('gained', 1), ('general', 1), ('generated', 1), ('geometric', 1), ('give', 1), ('goal', 1), ('goals', 1), ('going', 1), ('graphene', 1), ('growing', 1), ('hard', 1), ('helix', 1), ('helpful', 1), ('helping', 1), ('helps', 1), ('hence', 1), ('impacting', 1), ('improvement', 1), ('improving', 1), ('incubators', 1), ('indirect', 1), ('industry', 1), ('insights', 1), ('instructions', 1), ('integrative', 1), ('intelligent', 1), ('interrelated', 1), ('investments', 1), ('just', 1), ('knowledge', 1), ('last', 1), ('learn', 1), ('learning', 1), ('levels', 1), ('locations', 1), ('make', 1), ('makes', 1), ('making', 1), ('malicious', 1), ('manufacturing', 1), ('mathematics', 1), ('medicine', 1), ('memories', 1), ('micro-gas', 1), ('microgrid', 1), ('microgrids', 1), ('milestones', 1), ('modelling', 1), ('models', 1), ('multi-billion', 1), ('municipal', 1), ('necessary', 1), ('necessity', 1), ('needed', 1), ('needs', 1), ('networks', 1), ('neural', 1), ('new', 1), ('next', 1), ('non', 1), ('nurturing', 1), ('objectives', 1), ('observations', 1), ('ocean', 1), ('off-field', 1), ('offshore', 1), ('one', 1), ('opt-electronic', 1), ('optimized', 1), ('organic', 1), ('out', 1), ('overcome', 1), ('overview', 1), ('parameters', 1), ('participants', 1), ('payment', 1), ('people', 1), ('performance', 1), ('perspective', 1), ('phase', 1), ('photovoltaic', 1), ('players', 1), ('practice', 1), ('predict', 1), ('properties', 1), ('propulsion', 1), ('questions', 1), ('random', 1), ('renewable', 1), ('resistive', 1), ('results', 1), ('rich', 1), ('rule', 1), ('rupture', 1), ('schemes', 1), ('science,IoT/Sensors', 1), ('scope', 1), ('security', 1), ('semiconductors', 1), ('seminar', 1), ('simulation', 1), ('soft', 1), ('solar', 1), ('solved.Furthermore', 1), ('sports', 1), ('strengthening', 1), ('structure', 1), ('structures', 1), ('studies', 1), ('success', 1), ('successful', 1), ('supports', 1), ('survey', 1), ('switching', 1), ('systems', 1), ('than', 1), ('there', 1), ('third', 1), ('through', 1), ('thrust', 1), ('tools', 1), ('traffic', 1), ('transition', 1), ('travel', 1), ('triple', 1), ('turbine', 1), ('two', 1), ('used', 1), ('vehicle', 1), ('venture', 1), ('very', 1), ('visualisation', 1), ('volatile', 1), ('was', 1), ('waste', 1), ('wave', 1), ('well', 1), ('working', 1), ('years', 1), ('Adding', 2), ('achieve', 2), ('advantages', 2), ('analytics', 2), ('broad', 2), ('center', 2), ('change', 2), ('data', 2), ('device', 2), ('devices', 2), ('done', 2), ('dots', 2), ('failures', 2), ('four', 2), ('good', 2), ('growth', 2), ('have', 2), ('help', 2), ('lab', 2), ('laboratory', 2), ('materials', 2), ('nanostructures', 2), ('other', 2), ('peer', 2), ('project', 2), ('quantum', 2), ('secure', 2), ('solutions', 2), ('solved', 2), ('sources', 2), ('speed', 2), ('start-ups', 2), ('studied', 2), ('system', 2), ('technology', 2), ('their', 2), ('them', 2), ('transportation', 2), ('types', 2), ('understanding', 2), ('urban', 2), ('ways', 2), ('we', 2), ('were', 2), ('would', 2), ('&', 3), ('applications', 3), ('as', 3), ('brief', 3), ('designing', 3), ('engineering', 3), ('first', 3), ('high', 3), ('more', 3), ('need', 3), ('network', 3), ('projects', 3), ('protocols', 3), ('real', 3), ('research', 3), ('same', 3), ('second', 3), ('that', 3), ('theory', 3), ('these', 3), ('transport', 3), ('carbon', 4), ('connected', 4), ('idea', 4), ('learnt', 4), ('memory', 4), ('on', 4), ('problems', 4), ('world', 4), ('AI', 5), ('Furthermore', 5), ('Networks', 5), ('areas', 5), ('by', 5), ('can', 5), ('challenges', 5), ('its', 5), ('technologies', 5), ('they', 5), ('are', 6), ('centre', 6), ('different', 6), ('from', 6), ('like', 6), ('metamaterials', 6), ('using', 6), ('various', 6), ('why', 6), ('is', 8), ('what', 8), ('which', 8), ('with', 8), ('a', 9), ('cluster', 9), ('for', 9), ('get', 10), ('got', 11), ('it', 11), ('webinar', 11), ('In', 15), ('will', 15), ('know', 17), ('be', 19), ('learned', 20), ('how', 21), ('in', 21), ('also', 23), ('of', 27), ('about', 30), ('to', 35), ('and', 43), ('I', 44), ('the', 58)]\n"
     ]
    }
   ],
   "source": [
    "print(sorted(token_count.items(), key =\n",
    "             lambda kv:(kv[1], kv[0])))"
   ]
  },
  {
   "cell_type": "code",
   "execution_count": 145,
   "id": "2d0ad05f",
   "metadata": {},
   "outputs": [
    {
     "name": "stdout",
     "output_type": "stream",
     "text": [
      "43 43\n"
     ]
    }
   ],
   "source": [
    "dataFile = open(\"corpus.txt\", \"r\")\n",
    "token_sentences = dataFile.readline().split(\". \")\n",
    "\n",
    "print(len(token_sentences),len(set(token_sentences)))"
   ]
  },
  {
   "cell_type": "code",
   "execution_count": 146,
   "id": "204db9cc",
   "metadata": {
    "scrolled": true
   },
   "outputs": [
    {
     "name": "stdout",
     "output_type": "stream",
     "text": [
      "['In the AI and .D.a.ta Science cluster, I learnt about Deployable Artificial Intelligence', 'What were the failures apart from laboratory failures which makes transition from laboratory success to real world indirect', 'Furthermore, I got to know about the broad project areas like Fair/Social good in AI, Explainable AI, Private and Safe AI and AI for Edge along with their detailed objectives', 'In Second webinar, I learnt about integrative biology, system medicine', 'Adding more to that, I also learnt about four research projects GARBH-Ini PRETERM BIRTH COHORT, GenomeIndia, MulTiGenomics and MetaSub CHENNAI and how they would be helpful in context to Indian people', 'In the third seminar of the same cluster, I learned about what is sports analytics, how it is helping in both categories of off-field and On-field analytics and how it is becoming a multi-billion industry', 'I also learned how actionable insights results using data science,IoT/Sensors, First Principles Modelling would be used for improving players performance, improvement, rule enforcement, etc', 'In the Ocean Technology cluster, I learned what are the challenges in ocean engineering in general like in offshore engineering, wave floating structures and coastal engineering', 'I also learned about the research activities which were going to be carried out in the center to overcome the challenges', 'In the Big Networks cluster, in the connected Intelligent urban transportation webinar I learned why we need intelligent urban transportation, what are the problems for which it is needed', 'I also learned about connected vehicle technologies and how from it the problems will be solved.Furthermore, I learned about distinct areas like traffic flow & control, travel & driving behaviour, payment & geometric conditions', 'I also learned about interrelated areas in connected transport and what will be the changes in these areas using connected transport', 'I also learned how the lab will be working to achieve transport technology', 'In another webinar, I learnt about the different types of network systems, what they are in the real world and why they need to be studied', 'I also get to know about the idea which will help to achieve the goal of learning a network system', 'Furthermore, I got to know about the four research projects like Biological Networks, Brain Networks, Process Networks, Infrastructure Networks and how different problems will be solved in these projects', 'In the first webinar of Advanced materials cluster, I got to know about soft materials and aneurysm', 'I also get a brief idea how the two goals will be achieved: one to accurately predict the growth and rupture of abdominal aortic aneurysm(AAA) and other to develop a lab on chip device', 'I also get idea how different problems and challenges will be solved In the second webinar, I learned about metamaterials from a broad perspective and got to know about the idea of designing metamaterials and how it can be done', 'Furthermore, I learned what the metamaterials can do with its features and how it can help in various applications', 'I also get to know about modelling and simulation tools for designing metamaterials', 'I also learned why the designing of metamaterials needs to be optimized by various schemes', 'Adding more to that, I get to know about additive manufacturing technologies and its various advantages and also how it helps in making metamaterials', 'In the first webinar of Humanities and Business Cluster, I got to know about the start-ups in India, how they have evolved from 1992 to 2020 and have been impacting the economy', 'I also got to know about various ways by which start-ups will be successful like nurturing them with the growing network of incubators and with the strengthening of triple helix instructions by the centre', 'Furthermore, I also get to know about venture capital and angel investments', 'In the second webinar of the same cluster I get a brief understanding of memory studies, how it will be studied using various technologies and how the embedded, extended, and enactive models of memory will be examined through the centre project at neural and cultural levels', 'In the webinar of energy, propulsion and renewable cluster, I gained an overview of microgrids technologies with its deployment survey using different sources in various locations in the world and hence was able to know about the characteristics of it and from these observations learned how different questions will be addressed by centre by new technologies', 'I also learned the microgrid visualisation of the centre which is deployed using solar photovoltaic and will also be done using other sources like micro-gas turbine, municipal generated waste', 'In the mathematics and cybersecurity cluster, I learned how the center will cover fundamentals to developing applications in theory as well as building real world protocols', 'Then I also learned why we need quantum secure protocols which are quantum secure and how they will be developed', 'Furthermore, I learned why security is necessary in big data and what are the different solutions for encrypted solutions', 'Also, I get to learn about the design of protocols for peer to peer networks to make them hard for malicious participants', 'I also learned why Cryptographic theory that supports practice is more efficient than just rich cryptographic theory', 'In the first webinar of Microelectronics and Integrated Circuits, I learned about carbon nanostructures with their applications, and its advantages due to which there is a good scope of it', 'I also learned on how the centre will be focussing on carbon nanostructures with very high emission properties and what are the challenges on it', 'I also get to know about carbon dots and how change in parameters of its growth can give diverse types of carbon dots', 'I also got to know briefly about ways how graphene can act as a component of opt-electronic devices', 'In the second webinar of the same cluster, I got a brief understanding of organic semiconductors, device structure for OLED', 'In the next webinar I got to know about the necessity for high speed computing devices with the challenges and got to know about high speed non volatile memories', 'I also get to know about the thrust areas and technology development of the centre', 'I also got to know about phase change memory, electrical switching and milestones in the last years', 'Lastly, I gain knowledge about resistive random access memory.']\n"
     ]
    }
   ],
   "source": [
    "print(token_sentences)"
   ]
  },
  {
   "cell_type": "code",
   "execution_count": 147,
   "id": "d1930ab1",
   "metadata": {},
   "outputs": [],
   "source": [
    "sentence_token_count=dict()\n",
    "\n",
    "for token in token_sentences:\n",
    "    if token in token_count:\n",
    "        sentence_token_count[token]+=1\n",
    "    else:\n",
    "        sentence_token_count[token]=1"
   ]
  },
  {
   "cell_type": "code",
   "execution_count": 148,
   "id": "c32f2e85",
   "metadata": {
    "scrolled": true
   },
   "outputs": [
    {
     "name": "stdout",
     "output_type": "stream",
     "text": [
      "[('Adding more to that, I also learnt about four research projects GARBH-Ini PRETERM BIRTH COHORT, GenomeIndia, MulTiGenomics and MetaSub CHENNAI and how they would be helpful in context to Indian people', 1), ('Adding more to that, I get to know about additive manufacturing technologies and its various advantages and also how it helps in making metamaterials', 1), ('Also, I get to learn about the design of protocols for peer to peer networks to make them hard for malicious participants', 1), ('Furthermore, I also get to know about venture capital and angel investments', 1), ('Furthermore, I got to know about the broad project areas like Fair/Social good in AI, Explainable AI, Private and Safe AI and AI for Edge along with their detailed objectives', 1), ('Furthermore, I got to know about the four research projects like Biological Networks, Brain Networks, Process Networks, Infrastructure Networks and how different problems will be solved in these projects', 1), ('Furthermore, I learned what the metamaterials can do with its features and how it can help in various applications', 1), ('Furthermore, I learned why security is necessary in big data and what are the different solutions for encrypted solutions', 1), ('I also get a brief idea how the two goals will be achieved: one to accurately predict the growth and rupture of abdominal aortic aneurysm(AAA) and other to develop a lab on chip device', 1), ('I also get idea how different problems and challenges will be solved In the second webinar, I learned about metamaterials from a broad perspective and got to know about the idea of designing metamaterials and how it can be done', 1), ('I also get to know about carbon dots and how change in parameters of its growth can give diverse types of carbon dots', 1), ('I also get to know about modelling and simulation tools for designing metamaterials', 1), ('I also get to know about the idea which will help to achieve the goal of learning a network system', 1), ('I also get to know about the thrust areas and technology development of the centre', 1), ('I also got to know about phase change memory, electrical switching and milestones in the last years', 1), ('I also got to know about various ways by which start-ups will be successful like nurturing them with the growing network of incubators and with the strengthening of triple helix instructions by the centre', 1), ('I also got to know briefly about ways how graphene can act as a component of opt-electronic devices', 1), ('I also learned about connected vehicle technologies and how from it the problems will be solved.Furthermore, I learned about distinct areas like traffic flow & control, travel & driving behaviour, payment & geometric conditions', 1), ('I also learned about interrelated areas in connected transport and what will be the changes in these areas using connected transport', 1), ('I also learned about the research activities which were going to be carried out in the center to overcome the challenges', 1), ('I also learned how actionable insights results using data science,IoT/Sensors, First Principles Modelling would be used for improving players performance, improvement, rule enforcement, etc', 1), ('I also learned how the lab will be working to achieve transport technology', 1), ('I also learned on how the centre will be focussing on carbon nanostructures with very high emission properties and what are the challenges on it', 1), ('I also learned the microgrid visualisation of the centre which is deployed using solar photovoltaic and will also be done using other sources like micro-gas turbine, municipal generated waste', 1), ('I also learned why Cryptographic theory that supports practice is more efficient than just rich cryptographic theory', 1), ('I also learned why the designing of metamaterials needs to be optimized by various schemes', 1), ('In Second webinar, I learnt about integrative biology, system medicine', 1), ('In another webinar, I learnt about the different types of network systems, what they are in the real world and why they need to be studied', 1), ('In the AI and .D.a.ta Science cluster, I learnt about Deployable Artificial Intelligence', 1), ('In the Big Networks cluster, in the connected Intelligent urban transportation webinar I learned why we need intelligent urban transportation, what are the problems for which it is needed', 1), ('In the Ocean Technology cluster, I learned what are the challenges in ocean engineering in general like in offshore engineering, wave floating structures and coastal engineering', 1), ('In the first webinar of Advanced materials cluster, I got to know about soft materials and aneurysm', 1), ('In the first webinar of Humanities and Business Cluster, I got to know about the start-ups in India, how they have evolved from 1992 to 2020 and have been impacting the economy', 1), ('In the first webinar of Microelectronics and Integrated Circuits, I learned about carbon nanostructures with their applications, and its advantages due to which there is a good scope of it', 1), ('In the mathematics and cybersecurity cluster, I learned how the center will cover fundamentals to developing applications in theory as well as building real world protocols', 1), ('In the next webinar I got to know about the necessity for high speed computing devices with the challenges and got to know about high speed non volatile memories', 1), ('In the second webinar of the same cluster I get a brief understanding of memory studies, how it will be studied using various technologies and how the embedded, extended, and enactive models of memory will be examined through the centre project at neural and cultural levels', 1), ('In the second webinar of the same cluster, I got a brief understanding of organic semiconductors, device structure for OLED', 1), ('In the third seminar of the same cluster, I learned about what is sports analytics, how it is helping in both categories of off-field and On-field analytics and how it is becoming a multi-billion industry', 1), ('In the webinar of energy, propulsion and renewable cluster, I gained an overview of microgrids technologies with its deployment survey using different sources in various locations in the world and hence was able to know about the characteristics of it and from these observations learned how different questions will be addressed by centre by new technologies', 1), ('Lastly, I gain knowledge about resistive random access memory.', 1), ('Then I also learned why we need quantum secure protocols which are quantum secure and how they will be developed', 1), ('What were the failures apart from laboratory failures which makes transition from laboratory success to real world indirect', 1)] 380\n"
     ]
    }
   ],
   "source": [
    "print(sorted(sentence_token_count.items(), key =\n",
    "             lambda kv:(kv[1], kv[0])),len(token_count))"
   ]
  },
  {
   "cell_type": "code",
   "execution_count": 2,
   "id": "54abe784",
   "metadata": {},
   "outputs": [
    {
     "name": "stdout",
     "output_type": "stream",
     "text": [
      "{'uvas': 1}\n",
      "{'uvas': 0}\n"
     ]
    }
   ],
   "source": [
    "lab=dict()\n",
    "lab['uvas']=1;\n",
    "print(lab)\n",
    "lab['uvas']-=1;\n",
    "print(lab)\n",
    "for temp in lab"
   ]
  },
  {
   "cell_type": "code",
   "execution_count": null,
   "id": "90e5b641",
   "metadata": {},
   "outputs": [],
   "source": []
  }
 ],
 "metadata": {
  "kernelspec": {
   "display_name": "Python 3 (ipykernel)",
   "language": "python",
   "name": "python3"
  },
  "language_info": {
   "codemirror_mode": {
    "name": "ipython",
    "version": 3
   },
   "file_extension": ".py",
   "mimetype": "text/x-python",
   "name": "python",
   "nbconvert_exporter": "python",
   "pygments_lexer": "ipython3",
   "version": "3.7.11"
  }
 },
 "nbformat": 4,
 "nbformat_minor": 5
}
